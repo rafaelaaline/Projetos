{
  "nbformat": 4,
  "nbformat_minor": 0,
  "metadata": {
    "colab": {
      "provenance": [],
      "toc_visible": true,
      "authorship_tag": "ABX9TyOBGTREkGetayUROedyVEYs",
      "include_colab_link": true
    },
    "kernelspec": {
      "name": "python3",
      "display_name": "Python 3"
    },
    "language_info": {
      "name": "python"
    }
  },
  "cells": [
    {
      "cell_type": "markdown",
      "metadata": {
        "id": "view-in-github",
        "colab_type": "text"
      },
      "source": [
        "<a href=\"https://colab.research.google.com/github/rafaelaaline/Projetos/blob/master/Python.ipynb\" target=\"_parent\"><img src=\"https://colab.research.google.com/assets/colab-badge.svg\" alt=\"Open In Colab\"/></a>"
      ]
    },
    {
      "cell_type": "markdown",
      "source": [
        "# Curso Gustavo Guanabara\n",
        " Mundo 2"
      ],
      "metadata": {
        "id": "CRCGLabOA4Pp"
      }
    },
    {
      "cell_type": "markdown",
      "source": [
        "**036:** Calcule o financiamento de uma casa. Se o valor das parcelas for maior que 30% mostre que o emprestimo foi reprovado."
      ],
      "metadata": {
        "id": "rvKTviTjQSSA"
      }
    },
    {
      "cell_type": "code",
      "source": [
        "#Calculando financiamento de uma casa (EX 36)\n",
        "\n",
        "casa = float(input('Qual é o valor da casa? R$'))\n",
        "salario = float(input('Quanto você recebe por mês? R$'))\n",
        "anos = int(input('Quantos anos de financiamento?'))\n",
        "prestacao = casa / (anos * 12) #Valor da casa dividido pela quantidade de meses q vai ser pago\n",
        "minimo = salario * 30 / 100\n",
        "print('Para pagar uma casa de R${:.2f} por {} anos, a prestação será de R${:.2f}.'.format(casa, anos, prestacao))\n",
        "if prestacao <= minimo:\n",
        "  print('Emprestimo APROVADO!')\n",
        "else:\n",
        "  print('Emprestimo NEGADO!')\n",
        "\n"
      ],
      "metadata": {
        "colab": {
          "base_uri": "https://localhost:8080/"
        },
        "id": "xsTKKTMyFexC",
        "outputId": "6d1ce560-3f93-48fb-d133-5a0af9762213"
      },
      "execution_count": null,
      "outputs": [
        {
          "output_type": "stream",
          "name": "stdout",
          "text": [
            "Qual é o valor da casa? R$120000\n",
            "Quanto você recebe por mês? R$5000\n",
            "Quantos anos de financiamento?10\n",
            "Para pagar uma casa de R$120000.00 por 10 anos, a prestação será de R$1000.00.\n",
            "Emprestimo APROVADO!\n"
          ]
        }
      ]
    },
    {
      "cell_type": "markdown",
      "source": [
        "**037:** Escreva um programa em Python que leia um número inteiro qualquer e peça para o usuário escolher qual será a base de conversão: 1 para binário, 2 para octal e 3 para hexadecimal."
      ],
      "metadata": {
        "id": "rQVKGyGsQHgv"
      }
    },
    {
      "cell_type": "code",
      "source": [
        "#Conversor para binário, octal ou hexadecimal (EX 37)\n",
        "\n",
        "num = int(input('Digite um número:'))\n",
        "print('''Escolha uma das bases para conversão:\n",
        "[ 1 ] Converter para BINÁRIO\n",
        "[ 2 ] Converter para OCTAL\n",
        "[ 3 ] Converter para HEXADECIMAL''')\n",
        "opcao = int(input('Sua opção: '))\n",
        "if opcao == 1:\n",
        "  print('O número {} em Binário é: {}.'.format(num, bin(num) [2:]))\n",
        "elif opcao == 2:\n",
        "  print('O número {} em Octal é: {}.'.format(num, oct(num) [2:]))\n",
        "elif opcao == 3:\n",
        "  print('O número {} em Hexadecimal é: {}.'.format(num, hex(num) [2:]))\n",
        "else:\n",
        "  print('Opção inválida. Tente novamente.')\n",
        "\n"
      ],
      "metadata": {
        "colab": {
          "base_uri": "https://localhost:8080/"
        },
        "id": "fYcD-QhqPrHQ",
        "outputId": "e257dc5b-ff16-46c0-e355-cf8afca1586a"
      },
      "execution_count": null,
      "outputs": [
        {
          "output_type": "stream",
          "name": "stdout",
          "text": [
            "Digite um número:22\n",
            "Escolha uma das bases para conversão:\n",
            "[ 1 ] Converter para BINÁRIO\n",
            "[ 2 ] Converter para OCTAL\n",
            "[ 3 ] Converter para HEXADECIMAL\n",
            "Sua opção: 3\n",
            "O número 22 em Hexadecimal é: 16.\n"
          ]
        }
      ]
    },
    {
      "cell_type": "markdown",
      "source": [
        "038: Escreva um programa que leia dois números inteiros e compare-os. mostrando na tela uma mensagem:\n",
        "- O primeiro valor é maior\n",
        "- O segundo valor é maior\n",
        "- Não existe valor maior, os dois são iguais"
      ],
      "metadata": {
        "id": "kHP0zEQQVkzO"
      }
    },
    {
      "cell_type": "code",
      "source": [
        "#Ler e comparar números (EX 38)\n",
        "\n",
        "n1 = int(input('Digite o PRIMEIRO número: '))\n",
        "n2 = int(input('Digite o SEGUNDO número: '))\n",
        "if n1 > n2:\n",
        "  print('O PRIMEIRO número é maior.')\n",
        "elif n2 > n1:\n",
        "  print('O SEGUNDO número é maior.')\n",
        "else:\n",
        "  print('Os números são iguais.')\n"
      ],
      "metadata": {
        "colab": {
          "base_uri": "https://localhost:8080/"
        },
        "id": "iJtAd_P4VrAB",
        "outputId": "289cddd9-35bb-401b-e48b-69a62f50208c"
      },
      "execution_count": null,
      "outputs": [
        {
          "output_type": "stream",
          "name": "stdout",
          "text": [
            "Digite o PRIMEIRO número: 15\n",
            "Digite o SEGUNDO número: 15\n",
            "Os números são iguais.\n"
          ]
        }
      ]
    },
    {
      "cell_type": "markdown",
      "source": [
        "039: Faça um programa que leia o ano de nascimento de um jovem e informe, de acordo com a sua idade, se ele ainda vai se alistar ao serviço militar, se é a hora exata de se alistar ou se já passou do tempo do alistamento. Seu programa também deverá mostrar o tempo que falta ou que passou do prazo."
      ],
      "metadata": {
        "id": "Tg0DRTBFaNkt"
      }
    },
    {
      "cell_type": "code",
      "source": [
        "# Analisar data de alistamento (EX39)\n",
        "from datetime import date\n",
        "atual = date.today().year\n",
        "nasc = int(input('Ano de nascimento: '))\n",
        "idade = atual - nasc\n",
        "print('Quem nasceu em {}, tem {} anos em {}.'.format(nasc, idade, atual))\n",
        "if idade == 18:\n",
        "  print('Você tem que se alistar imediatamente!')\n",
        "elif idade < 18:\n",
        "  saldo = 18 - idade\n",
        "  ano = atual + saldo\n",
        "  print('Ainda faltam {} anos para o alistamento. Seu alistamento será em {}.'.format(saldo, ano))\n",
        "else:\n",
        "  saldo = idade - 18\n",
        "  ano = atual - saldo\n",
        "  print('Você se alistou {} anos atrás. Seu alistamento foi em {}.'.format(saldo, ano))\n"
      ],
      "metadata": {
        "colab": {
          "base_uri": "https://localhost:8080/"
        },
        "id": "V1dF4X1SaSIr",
        "outputId": "31951771-bb61-44ed-b73c-973fa41ae69d"
      },
      "execution_count": null,
      "outputs": [
        {
          "output_type": "stream",
          "name": "stdout",
          "text": [
            "Ano de nascimento: 2010\n",
            "Quem nasceu em 2010, tem 13 anos em 2023.\n",
            "Ainda faltam 5 anos para o alistamento. Seu alistamento será em 2028.\n"
          ]
        }
      ]
    },
    {
      "cell_type": "markdown",
      "source": [
        "040: Crie um programa que leia duas notas de um aluno e calcule sua média, mostrando uma mensagem no final, de acordo com a média atingida:\n",
        "- Média abaixo de 5.0: REPROVADO\n",
        "- Média entre 5.0 e 6.9: RECUPERAÇÃO\n",
        "- Média 7.0 ou superior: APROVADO"
      ],
      "metadata": {
        "id": "tzgU03OBkoNq"
      }
    },
    {
      "cell_type": "code",
      "source": [
        "# Calculando média (EX40)\n",
        "n1 = float(input('Digite a primeira nota: '))\n",
        "n2 = float(input('Digite a degunda nota: '))\n",
        "media = (n1 + n2) / 2\n",
        "print('Sua média é: {}'.format(media))\n",
        "if media <= 5:\n",
        "  print('Você está reprovado!')\n",
        "elif media <=6.9:\n",
        "  print('Você está em recuperação!')\n",
        "else:\n",
        "  print('Você está aprovado.')\n"
      ],
      "metadata": {
        "colab": {
          "base_uri": "https://localhost:8080/"
        },
        "id": "eVgVDsdNjvSK",
        "outputId": "fbdf62d9-b931-4ce4-eb65-795454ebf613"
      },
      "execution_count": null,
      "outputs": [
        {
          "output_type": "stream",
          "name": "stdout",
          "text": [
            "Digite a primeira nota: 5.1\n",
            "Digite a degunda nota: 5.1\n",
            "Sua média é: 5.1\n",
            "Você está em recuperação!\n"
          ]
        }
      ]
    },
    {
      "cell_type": "markdown",
      "source": [
        "041: A Confederação Nacional de Natação precisa de um programa que leia o ano de nascimento de um atleta e mostre sua categoria, de acordo com a idade:\n",
        "- Até 9 anos: MIRIM\n",
        "- Até 14 anos: INFANTIL\n",
        "- Até 19 anos: JÚNIOR\n",
        "- Até 25 anos: SÊNIOR\n",
        "- Acima de 25 anos: MASTER"
      ],
      "metadata": {
        "id": "bpKEU_UD3RSW"
      }
    },
    {
      "cell_type": "code",
      "source": [
        "# Categoria de Atleta (EX 41)\n",
        "from datetime import date\n",
        "nasc = int(input('Ano de nascimento: '))\n",
        "atual = date.today().year\n",
        "idade = atual - nasc\n",
        "print('Atualmente você tem {} anos.'.format(idade))\n",
        "if idade <= 9:\n",
        "  print('A sua caregoria é MIRIM')\n",
        "elif idade <= 14:\n",
        "  print('A sua categoria é INFANTIL')\n",
        "elif idade <= 19:\n",
        "  print('A sua categoria é JÚNIOR')\n",
        "elif idade <= 25:\n",
        "  print('A sua categoria é SÊNIOR')\n",
        "else:\n",
        "  print('A sua categoria é MASTER')"
      ],
      "metadata": {
        "colab": {
          "base_uri": "https://localhost:8080/"
        },
        "id": "wRuiirZk3S-b",
        "outputId": "35f81c7b-92d1-4f79-ff04-56335dd15408"
      },
      "execution_count": null,
      "outputs": [
        {
          "output_type": "stream",
          "name": "stdout",
          "text": [
            "Ano de nascimento: 2006\n",
            "Atualmente você tem 17 anos.\n",
            "A sua categoria é JÚNIOR\n"
          ]
        }
      ]
    },
    {
      "cell_type": "markdown",
      "source": [
        "42: Refaça o DESAFIO 035 dos triângulos, acrescentando o recurso de mostrar que tipo de triângulo será formado:\n",
        "- EQUILÁTERO: todos os lados iguais\n",
        "- ISÓSCELES: dois lados iguais, um diferente\n",
        "- ESCALENO: todos os lados diferentes"
      ],
      "metadata": {
        "id": "VYQAxOMo-puZ"
      }
    },
    {
      "cell_type": "code",
      "source": [
        "# Definição de triângulos (EX 42)\n",
        "\n",
        "r1 = float(input('Primeiro segmento: '))\n",
        "r2 = float(input('Segundo segmento: '))\n",
        "r3 = float(input('Terceiro segmento: '))\n",
        "if r1 < r2 + r3 and r2 < r1 + r3 and r3 < r1 + r2:\n",
        "  print('Os segmentos PODEM formar um triângulo ', end='')\n",
        "  if r1 == r2 == r3:\n",
        "    print('EQUILÁTERO.')\n",
        "  elif r1 != r2 != r3 != r1:\n",
        "    print('ESCALENO.')\n",
        "  else:\n",
        "    print('ISÓCELES.')\n",
        "else:\n",
        "  print('Os segmentos NÃO PODEM formar um triângulo.')"
      ],
      "metadata": {
        "colab": {
          "base_uri": "https://localhost:8080/"
        },
        "id": "BtC7QFvr-uUm",
        "outputId": "be6b9a95-abf3-4ce5-8d14-7389a1633ae8"
      },
      "execution_count": null,
      "outputs": [
        {
          "output_type": "stream",
          "name": "stdout",
          "text": [
            "Primeiro segmento: 1\n",
            "Segundo segmento: 9\n",
            "Terceiro segmento: 6\n",
            "Os segmentos NÃO PODEM formar um triângulo.\n"
          ]
        }
      ]
    },
    {
      "cell_type": "markdown",
      "source": [
        "43: Desenvolva uma lógica que leia o peso e a altura de uma pessoa, calcule seu Índice de Massa Corporal (IMC) e mostre seu status, de acordo com a tabela abaixo:\n",
        "- IMC abaixo de 18,5: Abaixo do Peso\n",
        "- Entre 18,5 e 25: Peso Ideal\n",
        "- 25 até 30: Sobrepeso\n",
        "- 30 até 40: Obesidade\n",
        "- Acima de 40: Obesidade Mórbida"
      ],
      "metadata": {
        "id": "6FONR-cw_oNq"
      }
    },
    {
      "cell_type": "code",
      "source": [
        "# Calcule o peso (Ex 43)\n",
        "\n",
        "peso = float(input('Digite seu peso. Kg: '))\n",
        "alt = float(input('Digite sua altura: '))\n",
        "imc = peso / (alt * alt)\n",
        "print('Seu peso é: {:.2f} kg. Sua altura é: {:.2f}. Seu IMC é: {:.2f}.'.format(peso, alt, imc))\n",
        "if imc <= 18.5:\n",
        "  print('Você está abaixo do peso.')\n",
        "elif imc <= 25:\n",
        "  print('Você está no peso ideal.')\n",
        "elif imc <= 30:\n",
        "  print('Você está com sobrepeso.')\n",
        "elif imc <= 40:\n",
        "  print('Você está obeso.')\n",
        "else:\n",
        "  print('Você está na obesidade mórbida.')\n"
      ],
      "metadata": {
        "colab": {
          "base_uri": "https://localhost:8080/"
        },
        "id": "eujmuvYO_uaw",
        "outputId": "3c8eb3ec-4f21-4ced-e3ac-9fb6ef300f8f"
      },
      "execution_count": null,
      "outputs": [
        {
          "output_type": "stream",
          "name": "stdout",
          "text": [
            "Digite seu peso. Kg: 87\n",
            "Digite sua altura: 1.97\n",
            "Seu peso é: 87.00kg. Sua altura é: 1.97. Seu IMC é: 22.42.\n",
            "Você está no peso ideal.\n"
          ]
        }
      ]
    },
    {
      "cell_type": "markdown",
      "source": [
        "44: Elabore um programa que calcule o valor a ser pago por um produto, considerando o seu preço normal e condição de pagamento:\n",
        "- à vista dinheiro/cheque: 10% de desconto\n",
        "- à vista no cartão: 5% de desconto\n",
        "- em até 2x no cartão: preço formal\n",
        "- 3x ou mais no cartão: 20% de juros"
      ],
      "metadata": {
        "id": "gyn_93GXJnrv"
      }
    },
    {
      "cell_type": "code",
      "source": [
        "# Simulador de pagamento (Ex 44)\n",
        "\n",
        "print('{:°^40}'.format(' PLUS MODA '))\n",
        "preco = float(input('Preço total das compras: R$'))\n",
        "print('''FORMAS DE PAGAMENTO\n",
        "[ 1 ] à vista dinheiro/cheque\n",
        "[ 2 ] à vista cartão\n",
        "[ 3 ] cartão 2x\n",
        "[ 4 ] cartão 3x ou mais''')\n",
        "opcao = int(input('Digite a opção: '))\n",
        "if opcao == 1:\n",
        "  total = preco - (preco * 10 / 100)\n",
        "elif opcao == 2:\n",
        "  total = preco - (preco * 5 / 100)\n",
        "elif opcao == 3:\n",
        "  total = preco\n",
        "  parcela = total / 2\n",
        "  print('Sua compra será parcelada em 2x de R${:.2f}.'.format(parcela))\n",
        "elif opcao == 4:\n",
        "  total = preco + (preco * 20 / 100)\n",
        "  totparc = int(input('Em quantas vezes você quer parcelar? '))\n",
        "  parcela = total / totparc\n",
        "  print('Sua compra será parcelada em {}x com juros e vai custar R${:.2f} no final.'.format(totparc, parcela))\n",
        "else:\n",
        "  total = preco\n",
        "  print('Erro. Digite uma opção entre 1 e 4.')\n",
        "print('Sua compra foi de R${:.2f}, e o total é de R${:.2f}.'.format(preco, total))\n"
      ],
      "metadata": {
        "colab": {
          "base_uri": "https://localhost:8080/"
        },
        "id": "jiV5RpBKJqBU",
        "outputId": "191d4aaa-fa73-4a51-bb49-ba4978ff9d30"
      },
      "execution_count": null,
      "outputs": [
        {
          "output_type": "stream",
          "name": "stdout",
          "text": [
            "°°°°°°°°°°°°°° PLUS MODA °°°°°°°°°°°°°°°\n",
            "Preço total das compras: R$9\n",
            "FORMAS DE PAGAMENTO\n",
            "[ 1 ] à vista dinheiro/cheque\n",
            "[ 2 ] à vista cartão \n",
            "[ 3 ] cartão 2x \n",
            "[ 4 ] cartão 3x ou mais\n",
            "Digite a opção: 0\n",
            "Erro. Digite uma opção entre 1 e 4.\n",
            "Sua compra foi de R$9.00, e o total é de R$9.00.\n"
          ]
        }
      ]
    },
    {
      "cell_type": "markdown",
      "source": [
        "45: Crie um programa que faça o computador jogar Jokenpô com você."
      ],
      "metadata": {
        "id": "iiV1fjjKd7KB"
      }
    },
    {
      "cell_type": "code",
      "source": [
        "# Jogo Jokenpo (Ex 45)\n",
        "from random import randint\n",
        "itens = ('Pedra', 'Papel', 'Tesoura')\n",
        "computador = randint(0, 2)\n",
        "print('{:°^20}'.format('JOKENPO'))\n",
        "print('''[ 0 ] Pedra\n",
        "[ 1 ] Papel\n",
        "[ 2 ] Tesoura''')\n",
        "print('°'*20)\n",
        "jogador = int(input('Qual é o seu jogo?'))\n",
        "print('O Jogador escolheu: {}.'.format(itens[jogador]))\n",
        "print('O computador escolheu: {}.'.format(itens[computador]))\n",
        "if computador == 0: #Pedra\n",
        "  if jogador == 0:\n",
        "    print('EMPATE')\n",
        "  elif jogador == 1:\n",
        "    print('JOGADOR VENCEU')\n",
        "  elif jogador == 2:\n",
        "    print('COMPUTADOR VENCEU')\n",
        "  else:\n",
        "    print('Jogada inválida!')\n",
        "elif computador == 1:  #Papel\n",
        "  if jogador == 0:\n",
        "    print('COMPUTADOR VENCEU')\n",
        "  elif jogador == 1:\n",
        "    print('EMPATE')\n",
        "  elif jogador == 2:\n",
        "    print('JOGADOR VENCEU')\n",
        "  else:\n",
        "    print('Jogada inválida!')\n",
        "elif computador == 2: #Tesoura\n",
        "  if jogador == 0:\n",
        "    print('JOGADOR VENCEU')\n",
        "  elif jogador == 1:\n",
        "    print('COMPUTADOR VENCEU')\n",
        "  elif jogador == 2:\n",
        "    print('EMPATE')\n",
        "  else:\n",
        "    print('Jogada Inválida!')\n"
      ],
      "metadata": {
        "id": "38pH4OPUd8wv",
        "colab": {
          "base_uri": "https://localhost:8080/"
        },
        "outputId": "febfa8b1-fe09-44ff-f040-0e3bd077a57b"
      },
      "execution_count": null,
      "outputs": [
        {
          "output_type": "stream",
          "name": "stdout",
          "text": [
            "°°°°°°JOKENPO°°°°°°°\n",
            "[ 0 ] Pedra\n",
            "[ 1 ] Papel\n",
            "[ 2 ] Tesoura\n",
            "°°°°°°°°°°°°°°°°°°°°\n",
            "Qual é o seu jogo?2\n",
            "O Jogador escolheu: Tesoura.\n",
            "O computador escolheu: Pedra.\n",
            "COMPUTADOR VENCEU\n"
          ]
        }
      ]
    },
    {
      "cell_type": "markdown",
      "source": [
        " Python 046: Faça um programa que mostre na tela uma contagem regressiva para o estouro de fogos de artifício, indo de 10 até 0, com uma pausa de 1 segundo entre eles.\n"
      ],
      "metadata": {
        "id": "-ZSz3MJw0w0h"
      }
    },
    {
      "cell_type": "code",
      "source": [
        "from time import sleep\n",
        "\n",
        "for cont in range(10, -1, -1):\n",
        "  print(cont)\n",
        "  sleep(1)\n",
        "print('BOOM! POOW! BOOM! HAPPY NEW YEAR! BOOM! POOW! BOOM!')"
      ],
      "metadata": {
        "colab": {
          "base_uri": "https://localhost:8080/"
        },
        "id": "o2kRgsel02nr",
        "outputId": "105685cf-dfeb-48b2-d8e3-b363510a54e0"
      },
      "execution_count": null,
      "outputs": [
        {
          "output_type": "stream",
          "name": "stdout",
          "text": [
            "10\n",
            "9\n",
            "8\n",
            "7\n",
            "6\n",
            "5\n",
            "4\n",
            "3\n",
            "2\n",
            "1\n",
            "0\n",
            "BOOM! POOW! BOOM! HAPPY NEW YEAR! BOOM! POOW! BOOM!\n"
          ]
        }
      ]
    },
    {
      "cell_type": "markdown",
      "source": [
        " 047: Crie um programa que mostre na tela todos os números pares que estão no intervalo entre 1 e 50."
      ],
      "metadata": {
        "id": "o8_rFHBn3M2y"
      }
    },
    {
      "cell_type": "code",
      "source": [
        "for num in range(2, 51, 2):\n",
        "  print(num)\n"
      ],
      "metadata": {
        "colab": {
          "base_uri": "https://localhost:8080/"
        },
        "id": "2ZAwuc2b3RK4",
        "outputId": "d6c78977-093d-491b-cad6-38737ef2f456"
      },
      "execution_count": null,
      "outputs": [
        {
          "output_type": "stream",
          "name": "stdout",
          "text": [
            "2\n",
            "4\n",
            "6\n",
            "8\n",
            "10\n",
            "12\n",
            "14\n",
            "16\n",
            "18\n",
            "20\n",
            "22\n",
            "24\n",
            "26\n",
            "28\n",
            "30\n",
            "32\n",
            "34\n",
            "36\n",
            "38\n",
            "40\n",
            "42\n",
            "44\n",
            "46\n",
            "48\n",
            "50\n"
          ]
        }
      ]
    },
    {
      "cell_type": "markdown",
      "source": [
        "# Faculdade\n",
        "3 Período"
      ],
      "metadata": {
        "id": "bti1eRVFoY4P"
      }
    },
    {
      "cell_type": "markdown",
      "source": [
        "# Curso Lira Hashtag"
      ],
      "metadata": {
        "id": "8UkcDUukgP5L"
      }
    },
    {
      "cell_type": "markdown",
      "source": [
        "01 Projeto usando API de cotação de dólar, euro e bitcoin"
      ],
      "metadata": {
        "id": "Cnbw78yChAcF"
      }
    },
    {
      "cell_type": "code",
      "source": [
        "#01\n",
        "\n",
        "import requests\n",
        "import json\n",
        "\n",
        "cotacoes = requests.get(\"https://economia.awesomeapi.com.br/last/USD-BRL,EUR-BRL,BTC-BRL\")\n",
        "cotacoes = cotacoes.json()\n",
        "cotacao_dolar = cotacoes['USDBRL']['bid']\n",
        "cotacao_euro = cotacoes['EURBRL']['bid']\n",
        "print('A cotação atual do dolar é U$: {}'.format(cotacao_dolar))\n",
        "print('A cotação atual do euro é EU$ {}'.format(cotacao_euro))\n",
        "\n"
      ],
      "metadata": {
        "colab": {
          "base_uri": "https://localhost:8080/"
        },
        "id": "8qtW1Veng7ck",
        "outputId": "ab192b35-a016-47e4-a782-b99bd6f9aa01"
      },
      "execution_count": null,
      "outputs": [
        {
          "output_type": "stream",
          "name": "stdout",
          "text": [
            "A cotação atual do dolar é U$: 4.9039\n",
            "A cotação atual do euro é EU$ 5.3455\n"
          ]
        }
      ]
    },
    {
      "cell_type": "markdown",
      "source": [
        "# Coursera\n",
        "\n",
        "Escrever o enunciado junto com a solução apenas como comentário."
      ],
      "metadata": {
        "id": "SAc6tYuRA6lq"
      }
    },
    {
      "cell_type": "code",
      "source": [
        "# números repetidos\n",
        "\n",
        "numero = int(input(\"Digite um número inteiro: \"))\n",
        "possui_digitos_adjacentes_iguais = False\n",
        "digito_anterior = numero % 10\n",
        "numero //= 10\n",
        "while numero > 0:\n",
        "  digito_atual = numero % 10\n",
        "  if digito_atual == digito_anterior:\n",
        "    possui_digitos_adjacentes_iguais = True\n",
        "    break\n",
        "  digito_anterior = digito_atual\n",
        "  numero //= 10\n",
        "if possui_digitos_adjacentes_iguais:\n",
        "  print(\"sim\")\n",
        "else:\n",
        "  print(\"não\")"
      ],
      "metadata": {
        "colab": {
          "base_uri": "https://localhost:8080/"
        },
        "id": "tu8sjgdo7A-H",
        "outputId": "f7b06875-fa67-4a61-eceb-f13f268fcedf"
      },
      "execution_count": null,
      "outputs": [
        {
          "output_type": "stream",
          "name": "stdout",
          "text": [
            "Digite um número inteiro: 123347866\n",
            "sim\n"
          ]
        }
      ]
    },
    {
      "cell_type": "code",
      "source": [
        "#números primos\n",
        "\n",
        "numero = int(input(\"Digite um número inteiro: \"))\n",
        "primo = True\n",
        "for i in range(2, numero):\n",
        "  if numero % i == 0:\n",
        "    primo = False\n",
        "    break\n",
        "if primo:\n",
        "  print(\"primo\")\n",
        "else:\n",
        "  print(\"não primo\")"
      ],
      "metadata": {
        "colab": {
          "base_uri": "https://localhost:8080/"
        },
        "id": "qcnSO_pu51qJ",
        "outputId": "afe62107-4e5e-4fb1-98ba-1f0496e0ebce"
      },
      "execution_count": null,
      "outputs": [
        {
          "output_type": "stream",
          "name": "stdout",
          "text": [
            "Digite um número inteiro: 4\n",
            "não primo\n"
          ]
        }
      ]
    },
    {
      "cell_type": "code",
      "source": [
        "#Soma dos dígitos\n",
        "numero = int(input(\"Digite um número inteiro: \"))\n",
        "soma_digitos = 0\n",
        "while numero > 0:\n",
        "  digito = numero % 10\n",
        "  soma_digitos += digito\n",
        "  numero //= 10\n",
        "print(soma_digitos)"
      ],
      "metadata": {
        "colab": {
          "base_uri": "https://localhost:8080/"
        },
        "id": "CxkFqmY23jbG",
        "outputId": "f2bb474e-2fd4-44ff-de31-42628eff0771"
      },
      "execution_count": null,
      "outputs": [
        {
          "output_type": "stream",
          "name": "stdout",
          "text": [
            "Digite um número inteiro: 64\n",
            "10\n"
          ]
        }
      ]
    },
    {
      "cell_type": "code",
      "source": [
        "#Exercícios com números ímpares\n",
        "\n",
        "n = int(input(\"Digite o valor de n: \"))\n",
        "\n",
        "for i in range(1, n + 1):\n",
        "  numero_impar = 2 * i - 1\n",
        "  print(numero_impar)"
      ],
      "metadata": {
        "colab": {
          "base_uri": "https://localhost:8080/"
        },
        "id": "RX4UoTy52fWI",
        "outputId": "f26307e2-99a2-422c-8604-d2bad9f2d9b7"
      },
      "execution_count": null,
      "outputs": [
        {
          "output_type": "stream",
          "name": "stdout",
          "text": [
            "Digite o valor de n: 5\n",
            "1\n",
            "3\n",
            "5\n",
            "7\n",
            "9\n"
          ]
        }
      ]
    },
    {
      "cell_type": "code",
      "source": [
        "# Exercício fatorial\n",
        "\n",
        "n = int(input(\"Digite o valor de n: \"))\n",
        "fatorial = 1\n",
        "for i in range(1, n + 1):\n",
        "  fatorial *= i\n",
        "print(fatorial)"
      ],
      "metadata": {
        "colab": {
          "base_uri": "https://localhost:8080/"
        },
        "id": "RsoD2r1TsZ54",
        "outputId": "7d85d3fd-152c-4514-d1fa-03d561751b66"
      },
      "execution_count": null,
      "outputs": [
        {
          "output_type": "stream",
          "name": "stdout",
          "text": [
            "Digite o valor de n: 0\n",
            "1\n"
          ]
        }
      ]
    },
    {
      "cell_type": "code",
      "source": [
        "# Desafio da video aula:\n",
        "\n",
        "from math import sqrt\n",
        "\n",
        "a = float(input(\"Digite o coeficiente a: \"))\n",
        "b = float(input(\"Digite o coeficiente b: \"))\n",
        "c = float(input(\"Digite o coeficiente c: \"))\n",
        "\n",
        "delta = b ** 2 - 4 * a * c\n",
        "\n",
        "if delta < 0:\n",
        "  print(\"esta equação não possui raízes reais\")\n",
        "elif delta == 0:\n",
        "  raiz = -b / (2 * a)\n",
        "  print(\"a raiz desta equação é\", raiz)\n",
        "else:\n",
        "  x1 = (-b + sqrt(delta)) / (2 * a)\n",
        "  x2 = (-b - sqrt(delta)) / (2 * a)\n",
        "  if x1 == x2:\n",
        "    print(\"a raiz dupla desta equação é\", x1)\n",
        "  else:\n",
        "    print(\"as raízes da equação são\", x1, \"e\", x2)"
      ],
      "metadata": {
        "id": "9wAlm3-0IgL9"
      },
      "execution_count": null,
      "outputs": []
    },
    {
      "cell_type": "code",
      "source": [
        "# Calcular a distância entre dois pontos:\n",
        "\n",
        "x1 = float(input(\"Digite a coordenada x do primeiro ponto: \"))\n",
        "y1 = float(input(\"Digite a coordenada y do primeiro ponto: \"))\n",
        "x2 = float(input(\"Digite a coordenada x do segundo ponto: \"))\n",
        "y2 = float(input(\"Digite a coordenada y do segundo ponto: \"))\n",
        "\n",
        "distancia = ((x1 - x2) ** 2 + (y1 - y2) ** 2) ** 0.5\n",
        "\n",
        "if distancia >= 10:\n",
        "  print(\"longe\")\n",
        "else:\n",
        "  print(\"perto\")"
      ],
      "metadata": {
        "id": "ungdj2UoHSS0"
      },
      "execution_count": null,
      "outputs": []
    },
    {
      "cell_type": "code",
      "source": [
        "# Contagem de dias, horas, minutos e segundos automático:\n",
        "\n",
        "segundos = int(input(\"Digite a quantidade de segundos:\"))\n",
        "\n",
        "dias = segundos // 86400\n",
        "segundos_restantes = segundos % 86400\n",
        "horas = segundos_restantes // 3600\n",
        "segundos_restantes = segundos_restantes % 3600\n",
        "minutos = segundos_restantes // 60\n",
        "segundos_restantes = segundos_restantes % 60\n",
        "\n",
        "print(f\"{dias} dias, {horas} horas, {minutos} minutos e {segundos_restantes} segundos.\")\n"
      ],
      "metadata": {
        "id": "S4kRDBukaFgk"
      },
      "execution_count": null,
      "outputs": []
    },
    {
      "cell_type": "code",
      "source": [
        "# Encontrar as raízes em equação de segundo grau.\n",
        "\n",
        "a = float(input(\"Digite o coeficiente a: \"))\n",
        "b = float(input(\"Digite o coeficiente b: \"))\n",
        "c = float(input(\"Digite o termo constante c: \"))\n",
        "\n",
        "delta = b**2 - 4*a*c\n",
        "\n",
        "if delta > 0:\n",
        "  x1 = (-b + delta**0.5) / (2*a)\n",
        "  x2 = (-b - delta**0.5) / (2*a)\n",
        "  print(f\"As raízes reais da equação são: {x1} e {x2}\")\n",
        "elif delta == 0:\n",
        "  x = -b / (2*a)\n",
        "  print(f\"A única raíz real da equação é: {x}\")\n",
        "else:\n",
        "  x1 = (-b + delta**0.5j) / (2*a)\n",
        "  x2 = (-b - delta**0.5j) / (2*a)\n",
        "  print(f\"As raízes complexas da equação são: {x1} e {x2}\")\n"
      ],
      "metadata": {
        "id": "ZWo0UPQdFTDU"
      },
      "execution_count": null,
      "outputs": []
    },
    {
      "cell_type": "code",
      "source": [
        "# Verificar se o número inteiro é ímpar ou par:\n",
        "\n",
        "numero = int(input(\"Digite um número inteiro: \"))\n",
        "\n",
        "if numero % 2 == 0:\n",
        "  print(\"par\")\n",
        "else:\n",
        "  print(\"ímpar\")"
      ],
      "metadata": {
        "id": "xXZo7sOxFn4p"
      },
      "execution_count": null,
      "outputs": []
    },
    {
      "cell_type": "code",
      "source": [
        "# Média de 4 notas:\n",
        "\n",
        "n1 = float(input('Digite a primeira nota: '))\n",
        "n2 = float(input('Digite a segunda nota: '))\n",
        "n3 = float(input('Digite a terceira nota: '))\n",
        "n4 = float(input('Digite a quarta nota: '))\n",
        "media = (n1 + n2 + n3 + n4) / 4\n",
        "print('Sua média é: {}'.format(media))\n",
        "\n"
      ],
      "metadata": {
        "id": "KIzywJSMF0-i"
      },
      "execution_count": null,
      "outputs": []
    },
    {
      "cell_type": "code",
      "source": [
        "# Calcular perímetro e área:\n",
        "\n",
        "lado = float(input(\"Digite o valor do lado do quadrado: \"))\n",
        "\n",
        "perimetro = 4 * lado\n",
        "area = lado ** 2\n",
        "\n",
        "print(f\"perímetro: {perimetro:.2f} - área: {area:.2f}\")\n"
      ],
      "metadata": {
        "id": "791SYFjwF95J"
      },
      "execution_count": null,
      "outputs": []
    },
    {
      "cell_type": "code",
      "source": [
        "# Verificar se o número está em ordem crescente:\n",
        "\n",
        "numero1 = int(input(\"Digite o primeiro número: \"))\n",
        "numero2 = int(input(\"Digite o segundo número: \"))\n",
        "numero3 = int(input(\"Digite o terceiro número: \"))\n",
        "\n",
        "if numero1 <= numero2 and numero2 <= numero3:\n",
        "  print(\"crescente\")\n",
        "else:\n",
        "  print(\"não está em ordem crescente\")"
      ],
      "metadata": {
        "id": "1JaeKFMiGQck"
      },
      "execution_count": null,
      "outputs": []
    },
    {
      "cell_type": "markdown",
      "source": [
        "# Aleatórios"
      ],
      "metadata": {
        "id": "m7Sx19U6EBmR"
      }
    },
    {
      "cell_type": "markdown",
      "source": [
        "2. **Calcular o valor de uma compra, sendo que o preço unitário é de R$10,00:**\n",
        "\n",
        "* Se for feita uma compra de até 10 unidades, não há descontos;\n",
        "* Para compras entre 11 e 20 uidades, o desconto é de 10%;\n",
        "* Acima de 20 unidades, o desconto é de 20%."
      ],
      "metadata": {
        "id": "a6E-tI6GVMKb"
      }
    },
    {
      "cell_type": "code",
      "source": [
        "preco_unitario = 12\n",
        "DESCONTO10 = 0.1\n",
        "DESCONTO20 = 0.2\n",
        "quantidade = eval(input(\"Digite a quantidade que vai comprar: \"))\n",
        "if(quantidade <= 10) :\n",
        "  valor_final = preco_unitario*quantidade\n",
        "elif(quantidade <= 20) :\n",
        "  valor_final = preco_unitario*quantidade*(1-DESCONTO10)\n",
        "else :\n",
        "  valor_final = preco_unitario*quantidade*(1-DESCONTO20)\n",
        "\n",
        "print(f'O valor final da compra é: {valor_final}' )\n"
      ],
      "metadata": {
        "colab": {
          "base_uri": "https://localhost:8080/"
        },
        "id": "8y8wnhb5WTyQ",
        "outputId": "6e898759-c09f-440d-dd67-d66323034626"
      },
      "execution_count": null,
      "outputs": [
        {
          "output_type": "stream",
          "name": "stdout",
          "text": [
            "Digite a quantidade que vai comprar: 9\n",
            "O valor final da compra é: 108\n"
          ]
        }
      ]
    },
    {
      "cell_type": "markdown",
      "source": [
        "3. **Mostrar o número maior:**"
      ],
      "metadata": {
        "id": "FHkJT-tnYfiC"
      }
    },
    {
      "cell_type": "code",
      "source": [
        "a = 5\n",
        "b = 1\n",
        "\n",
        "if(a>b):\n",
        "  maior = a\n",
        "else:\n",
        "  maior = b\n",
        "\n",
        "print(f'O maior número é: {maior}')\n"
      ],
      "metadata": {
        "id": "lzzqR5wLZ24B"
      },
      "execution_count": null,
      "outputs": []
    },
    {
      "cell_type": "markdown",
      "source": [
        "4. **Solução em python que some todos os números pares de uma lista:**\n",
        "\n",
        "*Exemplo: Se a lista for [10, 2, 5, 7, 6, 3], o resultado deve ser igual a 18.*"
      ],
      "metadata": {
        "id": "mu4-oAqSnZsA"
      }
    },
    {
      "cell_type": "code",
      "source": [
        "#Estratégia 1\n",
        "\n",
        "lista = [10, 2, 5, 7, 6, 3, 2]\n",
        "\n",
        "n=len(lista)\n",
        "soma=0\n",
        "for i in range(n):\n",
        "  if (lista[i]%2==0):\n",
        "    soma=soma+lista[i]\n",
        "print(f'O somatório dos elementos pares da lista é: {soma}')\n",
        "\n"
      ],
      "metadata": {
        "id": "k4XqI2VyoKAU"
      },
      "execution_count": null,
      "outputs": []
    },
    {
      "cell_type": "code",
      "source": [
        "#Estratégia 2 modo funcional\n",
        "\n",
        "lista = [10, 2, 5, 7, 6, 3]\n",
        "\n",
        "soma=0\n",
        "for num in lista:\n",
        "  if(num%2==0) :\n",
        "    soma=soma+num\n",
        "print(f'O somatório dos elementos pares da lista é: {soma}')\n",
        "\n"
      ],
      "metadata": {
        "id": "N-GJ7DVTsd65",
        "outputId": "ed674e65-b850-43b5-995e-c476c7d12583",
        "colab": {
          "base_uri": "https://localhost:8080/"
        }
      },
      "execution_count": null,
      "outputs": [
        {
          "output_type": "stream",
          "name": "stdout",
          "text": [
            "O somatório dos elementos pares da lista é: 18\n"
          ]
        }
      ]
    }
  ]
}